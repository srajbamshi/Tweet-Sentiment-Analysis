{
 "cells": [
  {
   "cell_type": "code",
   "execution_count": 1,
   "id": "c6a3decb",
   "metadata": {},
   "outputs": [],
   "source": [
    "dataset_url = 'https://www.kaggle.com/gpreda/covid19-tweets' "
   ]
  },
  {
   "cell_type": "code",
   "execution_count": 2,
   "id": "a1573f9a",
   "metadata": {},
   "outputs": [
    {
     "name": "stdout",
     "output_type": "stream",
     "text": [
      "Skipping, found downloaded files in \".\\covid19-tweets\" (use force=True to force download)\n"
     ]
    }
   ],
   "source": [
    "import opendatasets as od\n",
    "od.download(dataset_url)"
   ]
  },
  {
   "cell_type": "code",
   "execution_count": 3,
   "id": "51db250c",
   "metadata": {},
   "outputs": [],
   "source": [
    "import pandas as pd\n",
    "import numpy as np\n"
   ]
  },
  {
   "cell_type": "code",
   "execution_count": 4,
   "id": "950eae58",
   "metadata": {},
   "outputs": [],
   "source": [
    "# Change this\n",
    "data_dir = './covid19-tweets'"
   ]
  },
  {
   "cell_type": "code",
   "execution_count": 5,
   "id": "0ff60b44",
   "metadata": {},
   "outputs": [
    {
     "data": {
      "text/plain": [
       "['covid19_tweets.csv']"
      ]
     },
     "execution_count": 5,
     "metadata": {},
     "output_type": "execute_result"
    }
   ],
   "source": [
    "import os\n",
    "os.listdir(data_dir)"
   ]
  },
  {
   "cell_type": "code",
   "execution_count": 6,
   "id": "bef424ad",
   "metadata": {},
   "outputs": [],
   "source": [
    "data_set=pd.read_csv('./covid19-tweets/covid19_tweets.csv')"
   ]
  },
  {
   "cell_type": "code",
   "execution_count": null,
   "id": "5459251f",
   "metadata": {},
   "outputs": [],
   "source": []
  }
 ],
 "metadata": {
  "kernelspec": {
   "display_name": "Python 3 (ipykernel)",
   "language": "python",
   "name": "python3"
  },
  "language_info": {
   "codemirror_mode": {
    "name": "ipython",
    "version": 3
   },
   "file_extension": ".py",
   "mimetype": "text/x-python",
   "name": "python",
   "nbconvert_exporter": "python",
   "pygments_lexer": "ipython3",
   "version": "3.8.11"
  }
 },
 "nbformat": 4,
 "nbformat_minor": 5
}
